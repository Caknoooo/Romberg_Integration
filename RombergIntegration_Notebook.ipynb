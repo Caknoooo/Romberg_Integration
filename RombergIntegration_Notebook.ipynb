{
 "cells": [
  {
   "attachments": {},
   "cell_type": "markdown",
   "metadata": {},
   "source": [
    "# Rombreg Integration "
   ]
  },
  {
   "attachments": {},
   "cell_type": "markdown",
   "metadata": {},
   "source": [
    "#### Import library"
   ]
  },
  {
   "cell_type": "code",
   "execution_count": 25,
   "metadata": {},
   "outputs": [],
   "source": [
    "import numpy as np\n",
    "import matplotlib.pyplot as plt\n",
    "import math"
   ]
  },
  {
   "attachments": {},
   "cell_type": "markdown",
   "metadata": {},
   "source": [
    "#### Function"
   ]
  },
  {
   "cell_type": "code",
   "execution_count": 19,
   "metadata": {},
   "outputs": [],
   "source": [
    "f = lambda x: np.exp(x**2) + 2*x"
   ]
  },
  {
   "attachments": {},
   "cell_type": "markdown",
   "metadata": {},
   "source": [
    "#### Integration"
   ]
  },
  {
   "cell_type": "code",
   "execution_count": 20,
   "metadata": {},
   "outputs": [],
   "source": [
    "a = 0\n",
    "b = 1\n",
    "\n",
    "def calculate(n, a, b):\n",
    "    # Calculate number of segments\n",
    "    h = (b - a) / n\n",
    "\n",
    "    # Calculate summation term\n",
    "    summ = 0\n",
    "    for i in range(1, n):\n",
    "        summ += 2 * f(a + i * h)\n",
    "\n",
    "    # Calculate Trapezhoidal\n",
    "    trapezhoid = (h / 2) * (f(a) + summ + f(b))\n",
    "    return trapezhoid\n",
    "\n",
    "def calculate_rombreg(data, approximate, n, a, b, i):\n",
    "    while approximate > 0.001:\n",
    "        # Increase the number of traphezoid\n",
    "        n = 2 ** i\n",
    "\n",
    "        data[i + 1, 1] = calculate(n, a, b)\n",
    "\n",
    "        # Rombreg integration\n",
    "        for k in range(2, i + 2):\n",
    "            j = 2 + i - k\n",
    "            data[j, k] = (4 ** (k - 1) * data[j + 1, k - 1] - data[j, k - 1]) / (4 ** (k - 1) - 1)\n",
    "\n",
    "        approximate = abs((data[1, i + 1] - data[2, i]) / data[1, i + 1]) * 100\n",
    "        et = abs((1.71828 - data[1, i + 1]) / 1.71828) * 100\n",
    "\n",
    "        print('%f \\t %f \\t %f \\t %f' % (i, approximate, et, data[1, i + 1]))\n",
    "\n",
    "        i += 1\n"
   ]
  },
  {
   "attachments": {},
   "cell_type": "markdown",
   "metadata": {},
   "source": [
    "#### Initialize"
   ]
  },
  {
   "cell_type": "code",
   "execution_count": 21,
   "metadata": {},
   "outputs": [
    {
     "name": "stdout",
     "output_type": "stream",
     "text": [
      "Application \t ea \t\t et \t\t Integral\n",
      "1.000000 \t 3.871689 \t 44.081906 \t 2.475731\n",
      "2.000000 \t 0.032536 \t 43.335745 \t 2.462909\n",
      "3.000000 \t 0.000162 \t 43.320855 \t 2.462654\n"
     ]
    }
   ],
   "source": [
    "data = np.zeros((10, 10))\n",
    "approximate = 100\n",
    "n = 1\n",
    "data[1, 1] = calculate(n, a, b)\n",
    "\n",
    "print('Application \\t ea \\t\\t et \\t\\t Integral')\n",
    "\n",
    "calculate_rombreg(data, approximate, n, a, b, 1)"
   ]
  }
 ],
 "metadata": {
  "kernelspec": {
   "display_name": "Python 3",
   "language": "python",
   "name": "python3"
  },
  "language_info": {
   "codemirror_mode": {
    "name": "ipython",
    "version": 3
   },
   "file_extension": ".py",
   "mimetype": "text/x-python",
   "name": "python",
   "nbconvert_exporter": "python",
   "pygments_lexer": "ipython3",
   "version": "3.7.9 (tags/v3.7.9:13c94747c7, Aug 17 2020, 16:30:00) [MSC v.1900 64 bit (AMD64)]"
  },
  "orig_nbformat": 4,
  "vscode": {
   "interpreter": {
    "hash": "8a9f11ffa4b8c3e7bb34dbb818844fec09bacfb958265076425ea51dcfa8bfb7"
   }
  }
 },
 "nbformat": 4,
 "nbformat_minor": 2
}
